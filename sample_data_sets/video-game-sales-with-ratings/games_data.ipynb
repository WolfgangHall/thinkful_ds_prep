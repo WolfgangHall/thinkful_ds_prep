{
 "cells": [
  {
   "cell_type": "code",
   "execution_count": 115,
   "metadata": {
    "collapsed": true,
    "deletable": true,
    "editable": true
   },
   "outputs": [],
   "source": [
    "# module imports\n",
    "\n",
    "import pandas as pd\n",
    "import numpy as np\n",
    "import matplotlib.pyplot as plt\n",
    "%matplotlib inline"
   ]
  },
  {
   "cell_type": "code",
   "execution_count": 116,
   "metadata": {
    "collapsed": true,
    "deletable": true,
    "editable": true
   },
   "outputs": [],
   "source": [
    "df = pd.read_csv('Video_Games_Sales_as_at_22_Dec_2016.csv')"
   ]
  },
  {
   "cell_type": "code",
   "execution_count": 117,
   "metadata": {
    "collapsed": false,
    "deletable": true,
    "editable": true
   },
   "outputs": [
    {
     "name": "stdout",
     "output_type": "stream",
     "text": [
      "<class 'pandas.core.frame.DataFrame'>\n",
      "RangeIndex: 16715 entries, 0 to 16714\n",
      "Data columns (total 16 columns):\n",
      "Name               16713 non-null object\n",
      "Platform           16715 non-null object\n",
      "Year_of_Release    16446 non-null object\n",
      "Genre              16713 non-null object\n",
      "Publisher          16661 non-null object\n",
      "NA_Sales           16715 non-null object\n",
      "EU_Sales           16715 non-null float64\n",
      "JP_Sales           16715 non-null float64\n",
      "Other_Sales        16715 non-null float64\n",
      "Global_Sales       16715 non-null float64\n",
      "Critic_Score       8155 non-null float64\n",
      "Critic_Count       8133 non-null float64\n",
      "User_Score         7586 non-null float64\n",
      "User_Count         7586 non-null float64\n",
      "Developer          10092 non-null object\n",
      "Rating             9946 non-null object\n",
      "dtypes: float64(8), object(8)\n",
      "memory usage: 1.5+ MB\n"
     ]
    }
   ],
   "source": [
    "# display info about number of entries and column names\n",
    "df.info()"
   ]
  },
  {
   "cell_type": "code",
   "execution_count": 118,
   "metadata": {
    "collapsed": true,
    "deletable": true,
    "editable": true
   },
   "outputs": [],
   "source": [
    "# User scores are ranked out of 10, multiply by 10 to set them out of 100\n",
    "df['User_Score'] = df['User_Score'] * 10"
   ]
  },
  {
   "cell_type": "code",
   "execution_count": 119,
   "metadata": {
    "collapsed": false,
    "deletable": true,
    "editable": true
   },
   "outputs": [],
   "source": [
    "# drop rows where User score or Critic Score is NaN\n",
    "games = df.dropna(subset=['User_Score', 'Critic_Score'])"
   ]
  },
  {
   "cell_type": "code",
   "execution_count": 120,
   "metadata": {
    "collapsed": false,
    "deletable": true,
    "editable": true
   },
   "outputs": [
    {
     "name": "stdout",
     "output_type": "stream",
     "text": [
      "<class 'pandas.core.frame.DataFrame'>\n",
      "Int64Index: 7013 entries, 0 to 16705\n",
      "Data columns (total 16 columns):\n",
      "Name               7013 non-null object\n",
      "Platform           7013 non-null object\n",
      "Year_of_Release    6890 non-null object\n",
      "Genre              7013 non-null object\n",
      "Publisher          7009 non-null object\n",
      "NA_Sales           7013 non-null object\n",
      "EU_Sales           7013 non-null float64\n",
      "JP_Sales           7013 non-null float64\n",
      "Other_Sales        7013 non-null float64\n",
      "Global_Sales       7013 non-null float64\n",
      "Critic_Score       7013 non-null float64\n",
      "Critic_Count       7013 non-null float64\n",
      "User_Score         7013 non-null float64\n",
      "User_Count         7013 non-null float64\n",
      "Developer          7009 non-null object\n",
      "Rating             6943 non-null object\n",
      "dtypes: float64(8), object(8)\n",
      "memory usage: 712.3+ KB\n"
     ]
    }
   ],
   "source": [
    "games.info()"
   ]
  },
  {
   "cell_type": "code",
   "execution_count": 121,
   "metadata": {
    "collapsed": false,
    "deletable": true,
    "editable": true
   },
   "outputs": [
    {
     "data": {
      "text/html": [
       "<div>\n",
       "<table border=\"1\" class=\"dataframe\">\n",
       "  <thead>\n",
       "    <tr style=\"text-align: right;\">\n",
       "      <th></th>\n",
       "      <th>Name</th>\n",
       "      <th>Platform</th>\n",
       "      <th>Year_of_Release</th>\n",
       "      <th>Genre</th>\n",
       "      <th>Publisher</th>\n",
       "      <th>NA_Sales</th>\n",
       "      <th>EU_Sales</th>\n",
       "      <th>JP_Sales</th>\n",
       "      <th>Other_Sales</th>\n",
       "      <th>Global_Sales</th>\n",
       "      <th>Critic_Score</th>\n",
       "      <th>Critic_Count</th>\n",
       "      <th>User_Score</th>\n",
       "      <th>User_Count</th>\n",
       "      <th>Developer</th>\n",
       "      <th>Rating</th>\n",
       "    </tr>\n",
       "  </thead>\n",
       "  <tbody>\n",
       "    <tr>\n",
       "      <th>0</th>\n",
       "      <td>Wii Sports</td>\n",
       "      <td>Wii</td>\n",
       "      <td>2006</td>\n",
       "      <td>Sports</td>\n",
       "      <td>Nintendo</td>\n",
       "      <td>41.36</td>\n",
       "      <td>28.96</td>\n",
       "      <td>3.77</td>\n",
       "      <td>8.45</td>\n",
       "      <td>82.53</td>\n",
       "      <td>76.0</td>\n",
       "      <td>51.0</td>\n",
       "      <td>80.0</td>\n",
       "      <td>322.0</td>\n",
       "      <td>Nintendo</td>\n",
       "      <td>E</td>\n",
       "    </tr>\n",
       "    <tr>\n",
       "      <th>2</th>\n",
       "      <td>Mario Kart Wii</td>\n",
       "      <td>Wii</td>\n",
       "      <td>2008</td>\n",
       "      <td>Racing</td>\n",
       "      <td>Nintendo</td>\n",
       "      <td>15.68</td>\n",
       "      <td>12.76</td>\n",
       "      <td>3.79</td>\n",
       "      <td>3.29</td>\n",
       "      <td>35.52</td>\n",
       "      <td>82.0</td>\n",
       "      <td>73.0</td>\n",
       "      <td>83.0</td>\n",
       "      <td>709.0</td>\n",
       "      <td>Nintendo</td>\n",
       "      <td>E</td>\n",
       "    </tr>\n",
       "    <tr>\n",
       "      <th>3</th>\n",
       "      <td>Wii Sports Resort</td>\n",
       "      <td>Wii</td>\n",
       "      <td>2009</td>\n",
       "      <td>Sports</td>\n",
       "      <td>Nintendo</td>\n",
       "      <td>15.61</td>\n",
       "      <td>10.93</td>\n",
       "      <td>3.28</td>\n",
       "      <td>2.95</td>\n",
       "      <td>32.77</td>\n",
       "      <td>80.0</td>\n",
       "      <td>73.0</td>\n",
       "      <td>80.0</td>\n",
       "      <td>192.0</td>\n",
       "      <td>Nintendo</td>\n",
       "      <td>E</td>\n",
       "    </tr>\n",
       "    <tr>\n",
       "      <th>6</th>\n",
       "      <td>New Super Mario Bros.</td>\n",
       "      <td>DS</td>\n",
       "      <td>2006</td>\n",
       "      <td>Platform</td>\n",
       "      <td>Nintendo</td>\n",
       "      <td>11.28</td>\n",
       "      <td>9.14</td>\n",
       "      <td>6.50</td>\n",
       "      <td>2.88</td>\n",
       "      <td>29.80</td>\n",
       "      <td>89.0</td>\n",
       "      <td>65.0</td>\n",
       "      <td>85.0</td>\n",
       "      <td>431.0</td>\n",
       "      <td>Nintendo</td>\n",
       "      <td>E</td>\n",
       "    </tr>\n",
       "    <tr>\n",
       "      <th>7</th>\n",
       "      <td>Wii Play</td>\n",
       "      <td>Wii</td>\n",
       "      <td>2006</td>\n",
       "      <td>Misc</td>\n",
       "      <td>Nintendo</td>\n",
       "      <td>13.96</td>\n",
       "      <td>9.18</td>\n",
       "      <td>2.93</td>\n",
       "      <td>2.84</td>\n",
       "      <td>28.92</td>\n",
       "      <td>58.0</td>\n",
       "      <td>41.0</td>\n",
       "      <td>66.0</td>\n",
       "      <td>129.0</td>\n",
       "      <td>Nintendo</td>\n",
       "      <td>E</td>\n",
       "    </tr>\n",
       "  </tbody>\n",
       "</table>\n",
       "</div>"
      ],
      "text/plain": [
       "                    Name Platform Year_of_Release     Genre Publisher  \\\n",
       "0             Wii Sports      Wii            2006    Sports  Nintendo   \n",
       "2         Mario Kart Wii      Wii            2008    Racing  Nintendo   \n",
       "3      Wii Sports Resort      Wii            2009    Sports  Nintendo   \n",
       "6  New Super Mario Bros.       DS            2006  Platform  Nintendo   \n",
       "7               Wii Play      Wii            2006      Misc  Nintendo   \n",
       "\n",
       "  NA_Sales  EU_Sales  JP_Sales  Other_Sales  Global_Sales  Critic_Score  \\\n",
       "0    41.36     28.96      3.77         8.45         82.53          76.0   \n",
       "2    15.68     12.76      3.79         3.29         35.52          82.0   \n",
       "3    15.61     10.93      3.28         2.95         32.77          80.0   \n",
       "6    11.28      9.14      6.50         2.88         29.80          89.0   \n",
       "7    13.96      9.18      2.93         2.84         28.92          58.0   \n",
       "\n",
       "   Critic_Count  User_Score  User_Count Developer Rating  \n",
       "0          51.0        80.0       322.0  Nintendo      E  \n",
       "2          73.0        83.0       709.0  Nintendo      E  \n",
       "3          73.0        80.0       192.0  Nintendo      E  \n",
       "6          65.0        85.0       431.0  Nintendo      E  \n",
       "7          41.0        66.0       129.0  Nintendo      E  "
      ]
     },
     "execution_count": 121,
     "metadata": {},
     "output_type": "execute_result"
    }
   ],
   "source": [
    "# grabs first five rows\n",
    "games.head()"
   ]
  },
  {
   "cell_type": "code",
   "execution_count": 273,
   "metadata": {
    "collapsed": false,
    "deletable": true,
    "editable": true
   },
   "outputs": [
    {
     "data": {
      "image/png": "[encoded data removed]",
      "text/plain": [
       "<matplotlib.figure.Figure at 0xc1102b0>"
      ]
     },
     "metadata": {},
     "output_type": "display_data"
    }
   ],
   "source": [
    "# box plot looking for outliers\n",
    "\n",
    "plt.figure(figsize=(5,10))\n",
    "\n",
    "plt.subplot(1, 2, 1)\n",
    "plt.boxplot(games['User_Score'])\n",
    "plt.ylabel('User Scores')\n",
    "plt.xlabel('Users')\n",
    "\n",
    "plt.subplot(1, 2, 2)\n",
    "plt.boxplot(games['Critic_Score'])\n",
    "plt.ylabel('Critic Scores')\n",
    "plt.xlabel('Critics')\n",
    "\n",
    "plt.tight_layout()"
   ]
  },
  {
   "cell_type": "markdown",
   "metadata": {},
   "source": [
    "According to the above boxplots of User and Critic Scores, there are more negative outliers based on user statistics. The critic scores are more stable within the inner quartiled sections, with fewer outliers."
   ]
  },
  {
   "cell_type": "code",
   "execution_count": 123,
   "metadata": {
    "collapsed": false
   },
   "outputs": [
    {
     "name": "stdout",
     "output_type": "stream",
     "text": [
      "User score average: 71.8146299729\n",
      "Critic score average: 70.2424069585\n"
     ]
    }
   ],
   "source": [
    "print('User score average:', games['User_Score'].mean())\n",
    "print('Critic score average:',games['Critic_Score'].mean())"
   ]
  },
  {
   "cell_type": "code",
   "execution_count": 275,
   "metadata": {
    "collapsed": false,
    "deletable": true,
    "editable": true
   },
   "outputs": [
    {
     "data": {
      "text/plain": [
       "<matplotlib.text.Text at 0xc1e4e30>"
      ]
     },
     "execution_count": 275,
     "metadata": {},
     "output_type": "execute_result"
    },
    {
     "data": {
      "image/png": "[encoded data removed]",
      "text/plain": [
       "<matplotlib.figure.Figure at 0xc329890>"
      ]
     },
     "metadata": {},
     "output_type": "display_data"
    }
   ],
   "source": [
    "plt.hist(games['User_Score'], color='red', bins=15, alpha=0.3, normed=True)\n",
    "plt.hist(games['Critic_Score'], color='blue', bins=15, alpha=0.3, normed=True)\n",
    "\n",
    "\n",
    "plt.xlabel('Scores')\n",
    "plt.ylabel('Reviews')"
   ]
  },
  {
   "cell_type": "markdown",
   "metadata": {},
   "source": [
    "According to the above histogram plots, Critics are more likely to award scores between 40 and 75. Users are much more likely to award very low scores ( < 30) and scores in the 78 - 88 range. "
   ]
  },
  {
   "cell_type": "code",
   "execution_count": 128,
   "metadata": {
    "collapsed": false
   },
   "outputs": [
    {
     "data": {
      "text/plain": [
       "<matplotlib.collections.PathCollection at 0x76a0230>"
      ]
     },
     "execution_count": 128,
     "metadata": {},
     "output_type": "execute_result"
    },
    {
     "data": {
      "image/png": "[encoded data removed]",
      "text/plain": [
       "<matplotlib.figure.Figure at 0xf36630>"
      ]
     },
     "metadata": {},
     "output_type": "display_data"
    }
   ],
   "source": [
    "plt.scatter(x=games['Critic_Score'], y=games['User_Score'])"
   ]
  },
  {
   "cell_type": "code",
   "execution_count": 231,
   "metadata": {
    "collapsed": false
   },
   "outputs": [
    {
     "data": {
      "text/html": [
       "<div>\n",
       "<table border=\"1\" class=\"dataframe\">\n",
       "  <thead>\n",
       "    <tr style=\"text-align: right;\">\n",
       "      <th></th>\n",
       "      <th>Critic_Score</th>\n",
       "      <th>User_Score</th>\n",
       "    </tr>\n",
       "    <tr>\n",
       "      <th>Rating</th>\n",
       "      <th></th>\n",
       "      <th></th>\n",
       "    </tr>\n",
       "  </thead>\n",
       "  <tbody>\n",
       "    <tr>\n",
       "      <th>AO</th>\n",
       "      <td>93.000000</td>\n",
       "      <td>86.000000</td>\n",
       "    </tr>\n",
       "    <tr>\n",
       "      <th>E</th>\n",
       "      <td>70.745042</td>\n",
       "      <td>71.719547</td>\n",
       "    </tr>\n",
       "    <tr>\n",
       "      <th>T</th>\n",
       "      <td>69.607851</td>\n",
       "      <td>73.104132</td>\n",
       "    </tr>\n",
       "    <tr>\n",
       "      <th>M</th>\n",
       "      <td>71.931271</td>\n",
       "      <td>71.676289</td>\n",
       "    </tr>\n",
       "  </tbody>\n",
       "</table>\n",
       "</div>"
      ],
      "text/plain": [
       "        Critic_Score  User_Score\n",
       "Rating                          \n",
       "AO         93.000000   86.000000\n",
       "E          70.745042   71.719547\n",
       "T          69.607851   73.104132\n",
       "M          71.931271   71.676289"
      ]
     },
     "execution_count": 231,
     "metadata": {},
     "output_type": "execute_result"
    }
   ],
   "source": [
    "byRating = games.groupby('Rating').mean().loc[['AO', 'E', 'T', 'M'], ['Critic_Score', 'User_Score']]\n",
    "byRating"
   ]
  },
  {
   "cell_type": "code",
   "execution_count": 269,
   "metadata": {
    "collapsed": false
   },
   "outputs": [
    {
     "data": {
      "text/plain": [
       "<matplotlib.axes._subplots.AxesSubplot at 0xc564f90>"
      ]
     },
     "execution_count": 269,
     "metadata": {},
     "output_type": "execute_result"
    },
    {
     "data": {
      "image/png": "[encoded data removed]",
      "text/plain": [
       "<matplotlib.figure.Figure at 0xc3bd150>"
      ]
     },
     "metadata": {},
     "output_type": "display_data"
    }
   ],
   "source": [
    "byRating.plot(kind='bar')"
   ]
  },
  {
   "cell_type": "markdown",
   "metadata": {},
   "source": [
    "Critics are more likely to favor Adult Only games. Users score games with a T for Teen rating more favorably. \n",
    "Games for Everyone and Matures games are relatively even."
   ]
  },
  {
   "cell_type": "code",
   "execution_count": 247,
   "metadata": {
    "collapsed": false
   },
   "outputs": [
    {
     "data": {
      "text/html": [
       "<div>\n",
       "<table border=\"1\" class=\"dataframe\">\n",
       "  <thead>\n",
       "    <tr style=\"text-align: right;\">\n",
       "      <th></th>\n",
       "      <th>Critic_Score</th>\n",
       "      <th>User_Score</th>\n",
       "    </tr>\n",
       "    <tr>\n",
       "      <th>Platform</th>\n",
       "      <th></th>\n",
       "      <th></th>\n",
       "    </tr>\n",
       "  </thead>\n",
       "  <tbody>\n",
       "    <tr>\n",
       "      <th>GC</th>\n",
       "      <td>71.098315</td>\n",
       "      <td>75.997191</td>\n",
       "    </tr>\n",
       "    <tr>\n",
       "      <th>Wii</th>\n",
       "      <td>64.310976</td>\n",
       "      <td>69.071138</td>\n",
       "    </tr>\n",
       "    <tr>\n",
       "      <th>PS3</th>\n",
       "      <td>70.802281</td>\n",
       "      <td>67.896071</td>\n",
       "    </tr>\n",
       "    <tr>\n",
       "      <th>X360</th>\n",
       "      <td>69.035187</td>\n",
       "      <td>67.881952</td>\n",
       "    </tr>\n",
       "    <tr>\n",
       "      <th>XOne</th>\n",
       "      <td>73.618182</td>\n",
       "      <td>65.381818</td>\n",
       "    </tr>\n",
       "    <tr>\n",
       "      <th>PS4</th>\n",
       "      <td>72.096774</td>\n",
       "      <td>67.435484</td>\n",
       "    </tr>\n",
       "    <tr>\n",
       "      <th>PC</th>\n",
       "      <td>75.981508</td>\n",
       "      <td>70.396871</td>\n",
       "    </tr>\n",
       "  </tbody>\n",
       "</table>\n",
       "</div>"
      ],
      "text/plain": [
       "          Critic_Score  User_Score\n",
       "Platform                          \n",
       "GC           71.098315   75.997191\n",
       "Wii          64.310976   69.071138\n",
       "PS3          70.802281   67.896071\n",
       "X360         69.035187   67.881952\n",
       "XOne         73.618182   65.381818\n",
       "PS4          72.096774   67.435484\n",
       "PC           75.981508   70.396871"
      ]
     },
     "execution_count": 247,
     "metadata": {},
     "output_type": "execute_result"
    }
   ],
   "source": [
    "byPlatform = games.groupby('Platform').mean().loc[['GC', 'Wii', 'PS3', 'X360', 'XOne', 'PS4', 'PC'], ['Critic_Score', 'User_Score']]\n",
    "byPlatform"
   ]
  },
  {
   "cell_type": "code",
   "execution_count": 270,
   "metadata": {
    "collapsed": false
   },
   "outputs": [
    {
     "data": {
      "text/plain": [
       "<matplotlib.legend.Legend at 0xc197fb0>"
      ]
     },
     "execution_count": 270,
     "metadata": {},
     "output_type": "execute_result"
    },
    {
     "data": {
      "image/png": "[encoded data removed]",
      "text/plain": [
       "<matplotlib.figure.Figure at 0x58ab870>"
      ]
     },
     "metadata": {},
     "output_type": "display_data"
    }
   ],
   "source": [
    "byPlatform.plot(kind='bar')\n",
    "plt.tight_layout()\n",
    "plt.legend(bbox_to_anchor=(1.05, .7), loc=2, borderaxespad=0.)"
   ]
  },
  {
   "cell_type": "markdown",
   "metadata": {},
   "source": [
    "Users favor Nintendo sponsored platform games much more than Critics.\n",
    "Critics rate major console platform games for Sony, Microsoft, and PC systems more favorably than Users."
   ]
  },
  {
   "cell_type": "code",
   "execution_count": 272,
   "metadata": {
    "collapsed": false
   },
   "outputs": [
    {
     "data": {
      "image/png": "[encoded data removed]",
      "text/plain": [
       "<matplotlib.figure.Figure at 0xbbe3d90>"
      ]
     },
     "metadata": {},
     "output_type": "display_data"
    }
   ],
   "source": [
    "gamesByYear = games.dropna(subset=['Year_of_Release'])\n",
    "\n",
    "byYearU = gamesByYear.groupby('Year_of_Release').mean()['User_Score']\n",
    "byYearC = gamesByYear.groupby('Year_of_Release').mean()['Critic_Score']\n",
    "\n",
    "plt.figure(figsize=(6, 3))\n",
    "\n",
    "byYearU.plot(marker='o', color='orange')\n",
    "byYearC.plot(marker='+', color='blue')\n",
    "\n",
    "plt.ylabel('Score')\n",
    "\n",
    "plt.legend(bbox_to_anchor=(1.05, .7), loc=2, borderaxespad=0.)\n",
    "\n",
    "plt.tight_layout()"
   ]
  },
  {
   "cell_type": "markdown",
   "metadata": {},
   "source": [
    "Game rating scores are actually pretty similar by year. The one glaring difference occurs in 1988, where User scores are drastically lower than Critic Scores."
   ]
  },
  {
   "cell_type": "code",
   "execution_count": null,
   "metadata": {
    "collapsed": true
   },
   "outputs": [],
   "source": []
  }
 ],
 "metadata": {
  "kernelspec": {
   "display_name": "Python 3",
   "language": "python",
   "name": "python3"
  },
  "language_info": {
   "codemirror_mode": {
    "name": "ipython",
    "version": 3
   },
   "file_extension": ".py",
   "mimetype": "text/x-python",
   "name": "python",
   "nbconvert_exporter": "python",
   "pygments_lexer": "ipython3",
   "version": "3.6.0"
  }
 },
 "nbformat": 4,
 "nbformat_minor": 2
}
