{
 "cells": [
  {
   "cell_type": "code",
   "execution_count": 3,
   "metadata": {
    "collapsed": true
   },
   "outputs": [],
   "source": [
    "import pandas as pd\n",
    "import numpy as np\n",
    "import matplotlib.pyplot as plt\n",
    "%matplotlib inline"
   ]
  },
  {
   "cell_type": "markdown",
   "metadata": {},
   "source": [
    "# Histogram"
   ]
  },
  {
   "cell_type": "code",
   "execution_count": 4,
   "metadata": {
    "collapsed": true
   },
   "outputs": [],
   "source": [
    "# histograms show the possible values of a variable\n",
    "# shows commonality of these variables"
   ]
  },
  {
   "cell_type": "code",
   "execution_count": 26,
   "metadata": {
    "collapsed": false
   },
   "outputs": [
    {
     "data": {
      "text/plain": [
       "(array([   6.,   26.,   82.,  160.,  268.,  232.,  138.,   59.,   26.,    3.]),\n",
       " array([ -5.77331475,  -2.56306128,   0.64719219,   3.85744566,\n",
       "          7.06769913,  10.27795259,  13.48820606,  16.69845953,\n",
       "         19.908713  ,  23.11896647,  26.32921994]),\n",
       " <a list of 10 Patch objects>)"
      ]
     },
     "execution_count": 26,
     "metadata": {},
     "output_type": "execute_result"
    },
    {
     "data": {
      "image/png": "[encoded data removed]",
      "text/plain": [
       "<matplotlib.figure.Figure at 0x8a65d70>"
      ]
     },
     "metadata": {},
     "output_type": "display_data"
    }
   ],
   "source": [
    "np.random.seed(111)  # sets seed for random generation\n",
    "x = np.random.normal(10, 5, 1000) # generate 1000 random variables\n",
    "plt.hist(x)"
   ]
  },
  {
   "cell_type": "code",
   "execution_count": 8,
   "metadata": {
    "collapsed": true
   },
   "outputs": [],
   "source": [
    "# 10 and 5 passed in above are center and standard deviation\n",
    "# notice how 10 is directly in the middle of the x axis\n",
    "\n",
    "\n",
    "# divides values in the array into bins\n",
    "# bins are evenly sized ranges that have an upper and lower bound\n",
    "# histogram counts how many values are in each bin and plots that count\n",
    "#    for each bin\n",
    "# gives sense of density of the variable across its range\n",
    "# default is 10 bins\n",
    "\n",
    "\n",
    "# can normalize the plot\n",
    "# normalization is a way of rescaling the values of the bins so that\n",
    "#    their area under the curve sums to 1\n",
    "# useful when you have variables of different sizes\n"
   ]
  },
  {
   "cell_type": "code",
   "execution_count": 16,
   "metadata": {
    "collapsed": false
   },
   "outputs": [
    {
     "data": {
      "image/png": "[encoded data removed]",
      "text/plain": [
       "<matplotlib.figure.Figure at 0x8e3c330>"
      ]
     },
     "metadata": {},
     "output_type": "display_data"
    }
   ],
   "source": [
    "x = np.random.normal(10, 5, 1000)\n",
    "y = np.random.normal(15, 5, 10000)\n",
    "\n",
    "plt.hist(x, color='red', bins=np.arange(-10, 40), alpha=.5)\n",
    "plt.hist(y, color='blue', bins=np.arange(-10, 40), alpha=.5)\n",
    "plt.title('Histogram Demo')\n",
    "plt.xlabel('Random Values')\n",
    "\n",
    "plt.show()"
   ]
  },
  {
   "cell_type": "code",
   "execution_count": 17,
   "metadata": {
    "collapsed": true
   },
   "outputs": [],
   "source": [
    "# Above\n",
    "# notice how one lines up with 15 in the middle, and the other with 10\n",
    "\n",
    "# alpha controls opacity"
   ]
  },
  {
   "cell_type": "code",
   "execution_count": 23,
   "metadata": {
    "collapsed": false
   },
   "outputs": [
    {
     "data": {
      "image/png": "[encoded data removed]",
      "text/plain": [
       "<matplotlib.figure.Figure at 0x78f2a70>"
      ]
     },
     "metadata": {},
     "output_type": "display_data"
    }
   ],
   "source": [
    "x = np.random.normal(10, 5, 1000)\n",
    "y = np.random.normal(15, 5, 10000)\n",
    "\n",
    "plt.hist(x, normed=True, color='red', bins=np.arange(30), alpha=.5)\n",
    "plt.hist(y, normed=True, color='blue', bins=np.arange(30), alpha=.5)\n",
    "plt.title('Histogram Demo')\n",
    "plt.xlabel('Random Values')\n",
    "\n",
    "plt.show()"
   ]
  },
  {
   "cell_type": "code",
   "execution_count": 27,
   "metadata": {
    "collapsed": true
   },
   "outputs": [],
   "source": [
    "# normed = True -> normalizes the data\n",
    "# can compare the shapes and scales of the distributions"
   ]
  },
  {
   "cell_type": "markdown",
   "metadata": {},
   "source": [
    "# Boxplot"
   ]
  },
  {
   "cell_type": "code",
   "execution_count": null,
   "metadata": {
    "collapsed": true
   },
   "outputs": [],
   "source": [
    "# takes an array and a series of other options as params\n",
    "# accepts standard pyplot params like color"
   ]
  },
  {
   "cell_type": "code",
   "execution_count": 29,
   "metadata": {
    "collapsed": false
   },
   "outputs": [
    {
     "data": {
      "text/plain": [
       "{'boxes': [<matplotlib.lines.Line2D at 0x8da36b0>],\n",
       " 'caps': [<matplotlib.lines.Line2D at 0x8d74150>,\n",
       "  <matplotlib.lines.Line2D at 0x8d74610>],\n",
       " 'fliers': [<matplotlib.lines.Line2D at 0x8d74fb0>],\n",
       " 'means': [],\n",
       " 'medians': [<matplotlib.lines.Line2D at 0x8d74e50>],\n",
       " 'whiskers': [<matplotlib.lines.Line2D at 0x8da3770>,\n",
       "  <matplotlib.lines.Line2D at 0x8da3c90>]}"
      ]
     },
     "execution_count": 29,
     "metadata": {},
     "output_type": "execute_result"
    },
    {
     "data": {
      "image/png": "[encoded data removed]",
      "text/plain": [
       "<matplotlib.figure.Figure at 0x8b73ab0>"
      ]
     },
     "metadata": {},
     "output_type": "display_data"
    }
   ],
   "source": [
    "np.random.seed(111)\n",
    "x = np.random.normal(10, 5, 1000)\n",
    "plt.boxplot(x)"
   ]
  },
  {
   "cell_type": "code",
   "execution_count": null,
   "metadata": {
    "collapsed": true
   },
   "outputs": [],
   "source": [
    "# the box covers the interquartile range (IQR)\n",
    "# IQR contains the second and third quartiles (25th to 75th percentile)\n",
    "\n",
    "# the whiskers cover the range of values up to 1.5x the IQR\n",
    "# anything beyond the 1.5x mark is represented as a flier, or small tick\n",
    "\n",
    "# NOT useful for learning about density of a variable\n",
    "\n",
    "# useful for investigating the range of values and possible outliers\n",
    "# fliers are often outliers or extreme values\n",
    "# can indicate problems with the dataset"
   ]
  }
 ],
 "metadata": {
  "kernelspec": {
   "display_name": "Python 3",
   "language": "python",
   "name": "python3"
  },
  "language_info": {
   "codemirror_mode": {
    "name": "ipython",
    "version": 3
   },
   "file_extension": ".py",
   "mimetype": "text/x-python",
   "name": "python",
   "nbconvert_exporter": "python",
   "pygments_lexer": "ipython3",
   "version": "3.6.0"
  }
 },
 "nbformat": 4,
 "nbformat_minor": 2
}
