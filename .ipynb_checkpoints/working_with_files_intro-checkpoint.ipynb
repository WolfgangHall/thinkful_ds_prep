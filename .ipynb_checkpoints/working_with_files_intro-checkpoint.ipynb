{
 "cells": [
  {
   "cell_type": "code",
   "execution_count": 3,
   "metadata": {
    "collapsed": true
   },
   "outputs": [],
   "source": [
    "import pandas as pd"
   ]
  },
  {
   "cell_type": "markdown",
   "metadata": {},
   "source": [
    "# Working with Files"
   ]
  },
  {
   "cell_type": "code",
   "execution_count": 4,
   "metadata": {
    "collapsed": true
   },
   "outputs": [],
   "source": [
    "# data is often loaded from database, csv files, APIs, large data stores"
   ]
  },
  {
   "cell_type": "code",
   "execution_count": null,
   "metadata": {
    "collapsed": true
   },
   "outputs": [],
   "source": [
    "# loading data with Pandas"
   ]
  },
  {
   "cell_type": "markdown",
   "metadata": {},
   "source": [
    "# CSV files"
   ]
  },
  {
   "cell_type": "code",
   "execution_count": 6,
   "metadata": {
    "collapsed": false
   },
   "outputs": [
    {
     "name": "stdout",
     "output_type": "stream",
     "text": [
      "  Unnamed: 0 country  ad_views  items_purchased\n",
      "0     George      US        16                2\n",
      "1       John     CAN        42                1\n",
      "2     Thomas     CAN        32                0\n",
      "3      James      US        13                8\n",
      "4     Andrew     CAN        63                0\n",
      "5     Martin      US        19                5\n",
      "6    William      US        65                7\n",
      "7    Zachary      US        23                3\n",
      "8    Millard     CAN        16                0\n",
      "9   Franklin      US        77                5\n"
     ]
    }
   ],
   "source": [
    "# comma separated value files\n",
    "# structured tabular data\n",
    "\n",
    "df = pd.read_csv('purchases.csv')\n",
    "# takes a string and returns a dataframe object\n",
    "print(df)"
   ]
  },
  {
   "cell_type": "code",
   "execution_count": 8,
   "metadata": {
    "collapsed": true
   },
   "outputs": [],
   "source": [
    "# to output data to a file\n",
    "df.to_csv('my_data.csv')\n",
    "\n",
    "# creates a new file and adds our data to it"
   ]
  },
  {
   "cell_type": "code",
   "execution_count": null,
   "metadata": {
    "collapsed": true
   },
   "outputs": [],
   "source": []
  },
  {
   "cell_type": "markdown",
   "metadata": {},
   "source": [
    "# JSON"
   ]
  },
  {
   "cell_type": "code",
   "execution_count": 9,
   "metadata": {
    "collapsed": true
   },
   "outputs": [],
   "source": [
    "# JavaScript Object Notation\n",
    "# JSON and XML allows for more customizable and flexible data storage\n",
    "# semi-structured files\n",
    "# additional complexity as a result"
   ]
  },
  {
   "cell_type": "code",
   "execution_count": 10,
   "metadata": {
    "collapsed": true
   },
   "outputs": [],
   "source": [
    "# a collection of key-value pairs, like dictionaries"
   ]
  },
  {
   "cell_type": "code",
   "execution_count": 11,
   "metadata": {
    "collapsed": true
   },
   "outputs": [],
   "source": [
    "df = pd.read_json('purchases.json')"
   ]
  },
  {
   "cell_type": "code",
   "execution_count": 12,
   "metadata": {
    "collapsed": false
   },
   "outputs": [
    {
     "data": {
      "text/html": [
       "<div>\n",
       "<table border=\"1\" class=\"dataframe\">\n",
       "  <thead>\n",
       "    <tr style=\"text-align: right;\">\n",
       "      <th></th>\n",
       "      <th>Unnamed: 0</th>\n",
       "      <th>ad_views</th>\n",
       "      <th>country</th>\n",
       "      <th>items_purchased</th>\n",
       "    </tr>\n",
       "  </thead>\n",
       "  <tbody>\n",
       "    <tr>\n",
       "      <th>0</th>\n",
       "      <td>George</td>\n",
       "      <td>16</td>\n",
       "      <td>US</td>\n",
       "      <td>2</td>\n",
       "    </tr>\n",
       "    <tr>\n",
       "      <th>1</th>\n",
       "      <td>John</td>\n",
       "      <td>42</td>\n",
       "      <td>CAN</td>\n",
       "      <td>1</td>\n",
       "    </tr>\n",
       "    <tr>\n",
       "      <th>2</th>\n",
       "      <td>Thomas</td>\n",
       "      <td>32</td>\n",
       "      <td>CAN</td>\n",
       "      <td>0</td>\n",
       "    </tr>\n",
       "    <tr>\n",
       "      <th>3</th>\n",
       "      <td>James</td>\n",
       "      <td>13</td>\n",
       "      <td>US</td>\n",
       "      <td>8</td>\n",
       "    </tr>\n",
       "    <tr>\n",
       "      <th>4</th>\n",
       "      <td>Andrew</td>\n",
       "      <td>63</td>\n",
       "      <td>CAN</td>\n",
       "      <td>0</td>\n",
       "    </tr>\n",
       "    <tr>\n",
       "      <th>5</th>\n",
       "      <td>Martin</td>\n",
       "      <td>19</td>\n",
       "      <td>US</td>\n",
       "      <td>5</td>\n",
       "    </tr>\n",
       "    <tr>\n",
       "      <th>6</th>\n",
       "      <td>William</td>\n",
       "      <td>65</td>\n",
       "      <td>US</td>\n",
       "      <td>7</td>\n",
       "    </tr>\n",
       "    <tr>\n",
       "      <th>7</th>\n",
       "      <td>Zachary</td>\n",
       "      <td>23</td>\n",
       "      <td>US</td>\n",
       "      <td>3</td>\n",
       "    </tr>\n",
       "    <tr>\n",
       "      <th>8</th>\n",
       "      <td>Millard</td>\n",
       "      <td>16</td>\n",
       "      <td>CAN</td>\n",
       "      <td>0</td>\n",
       "    </tr>\n",
       "    <tr>\n",
       "      <th>9</th>\n",
       "      <td>Franklin</td>\n",
       "      <td>77</td>\n",
       "      <td>US</td>\n",
       "      <td>5</td>\n",
       "    </tr>\n",
       "  </tbody>\n",
       "</table>\n",
       "</div>"
      ],
      "text/plain": [
       "  Unnamed: 0  ad_views country  items_purchased\n",
       "0     George        16      US                2\n",
       "1       John        42     CAN                1\n",
       "2     Thomas        32     CAN                0\n",
       "3      James        13      US                8\n",
       "4     Andrew        63     CAN                0\n",
       "5     Martin        19      US                5\n",
       "6    William        65      US                7\n",
       "7    Zachary        23      US                3\n",
       "8    Millard        16     CAN                0\n",
       "9   Franklin        77      US                5"
      ]
     },
     "execution_count": 12,
     "metadata": {},
     "output_type": "execute_result"
    }
   ],
   "source": [
    "df"
   ]
  },
  {
   "cell_type": "code",
   "execution_count": 13,
   "metadata": {
    "collapsed": true
   },
   "outputs": [],
   "source": [
    "# JSON output\n",
    "df.to_json('my_data.json')"
   ]
  },
  {
   "cell_type": "code",
   "execution_count": 14,
   "metadata": {
    "collapsed": true
   },
   "outputs": [],
   "source": [
    "# to simply create a JSON string\n",
    "serialized_purchases = df.to_json()\n",
    "\n",
    "# this allows us to send this data over the web"
   ]
  },
  {
   "cell_type": "code",
   "execution_count": null,
   "metadata": {
    "collapsed": true
   },
   "outputs": [],
   "source": []
  },
  {
   "cell_type": "markdown",
   "metadata": {},
   "source": [
    "# XML"
   ]
  },
  {
   "cell_type": "code",
   "execution_count": 17,
   "metadata": {
    "collapsed": true
   },
   "outputs": [],
   "source": [
    "# extensible markup language\n",
    "# hierarchical semi-structured data format\n",
    "\n",
    "# pandas has no read_xml equivalent\n",
    "# need xml module"
   ]
  },
  {
   "cell_type": "code",
   "execution_count": 19,
   "metadata": {
    "collapsed": false
   },
   "outputs": [
    {
     "name": "stdout",
     "output_type": "stream",
     "text": [
      "          0    1   2  3\n",
      "0    George   US  16  2\n",
      "1      John  CAN  42  1\n",
      "2    Thomas  CAN  32  0\n",
      "3     James   US  13  8\n",
      "4    Andrew  CAN  63  0\n",
      "5    Martin   US  19  5\n",
      "6   William   US  65  7\n",
      "7   Zachary   US  23  3\n",
      "8   Millard  CAN  16  0\n",
      "9  Franklin   US  77  5\n"
     ]
    }
   ],
   "source": [
    "import xml.etree.ElementTree as ET\n",
    "\n",
    "\n",
    "# load and parse the XML file into a tree\n",
    "tree = ET.parse('purchases.xml')\n",
    "\n",
    "# Find the root of the tree. This is the node of the tree where\n",
    "#   we start the iteration\n",
    "root = tree.getroot()\n",
    "\n",
    "# Define a custom function to loop over our tree, extract value\n",
    "#   return a two-dimensional list\n",
    "def xml_to_list(root):\n",
    "    result = []\n",
    "    for row in root:\n",
    "        row_list = []\n",
    "        for column in row:\n",
    "            row_list.append(column.text)\n",
    "        result.append(row_list)\n",
    "    return result\n",
    "\n",
    "# Feed our two-dimensional \n",
    "# pandas \n",
    "df = pd.DataFrame(xml_to_list(root))\n",
    "print(df)"
   ]
  },
  {
   "cell_type": "code",
   "execution_count": 20,
   "metadata": {
    "collapsed": true
   },
   "outputs": [],
   "source": [
    "# xml library reads in xml files and convert them to an element tree\n",
    "# manually processed into a list\n",
    "\n",
    "# when generating data files, use CSV and NOT xml"
   ]
  },
  {
   "cell_type": "markdown",
   "metadata": {},
   "source": [
    "# Python open()"
   ]
  },
  {
   "cell_type": "code",
   "execution_count": 27,
   "metadata": {
    "collapsed": false
   },
   "outputs": [
    {
     "name": "stdout",
     "output_type": "stream",
     "text": [
      "This file is 19 lines long\n",
      "Beautiful is better than ugly.\n",
      "\n",
      "Explicit is better than implicit.\n",
      "\n",
      "Simple is better than complex.\n",
      "\n",
      "Complex is better than complicated.\n",
      "\n",
      "Flat is better than nested.\n",
      "\n",
      "Sparse is better than dense.\n",
      "\n",
      "Readability counts.\n",
      "\n",
      "Special cases aren't special enough to break the rules.\n",
      "\n",
      "Although practicality beats purity.\n",
      "\n",
      "Errors should never pass silently.\n",
      "\n",
      "Unless explicitly silenced.\n",
      "\n",
      "In the face of ambiguity, refuse the temptation to guess.\n",
      "\n",
      "There should be one-- and preferably only one --obvious way to do it.\n",
      "\n",
      "Although that way may not be obvious at first unless you're Dutch.\n",
      "\n",
      "Now is better than never.\n",
      "\n",
      "Although never is often better than *right* now.\n",
      "\n",
      "If the implementation is hard to explain, it's a bad idea.\n",
      "\n",
      "If the implementation is easy to explain, it may be a good idea.\n",
      "\n",
      "Namespaces are one honking great idea -- let's do more of those!\n"
     ]
    }
   ],
   "source": [
    "with open('poem.txt') as poem_file:\n",
    "    text = poem_file.readlines()\n",
    "    print(\"This file is {} lines long\".format(len(text)))\n",
    "    for line in text:\n",
    "        print(line)"
   ]
  },
  {
   "cell_type": "code",
   "execution_count": 28,
   "metadata": {
    "collapsed": false
   },
   "outputs": [
    {
     "name": "stdout",
     "output_type": "stream",
     "text": [
      ",country,ad_views,items_purchased\n",
      "\n",
      "George,US,16,2\n",
      "\n",
      "John,CAN,42,1\n",
      "\n",
      "Thomas,CAN,32,0\n",
      "\n",
      "James,US,13,8\n",
      "\n",
      "Andrew,CAN,63,0\n",
      "\n",
      "Martin,US,19,5\n",
      "\n",
      "William,US,65,7\n",
      "\n",
      "Zachary,US,23,3\n",
      "\n",
      "Millard,CAN,16,0\n",
      "\n",
      "Franklin,US,77,5\n"
     ]
    }
   ],
   "source": [
    "with open('purchases.csv') as csv_file:\n",
    "    lines = csv_file.readlines()\n",
    "    for line in lines:\n",
    "        print(line)"
   ]
  },
  {
   "cell_type": "code",
   "execution_count": 29,
   "metadata": {
    "collapsed": true
   },
   "outputs": [],
   "source": [
    "# readlines() creates a list of strings\n",
    "# each element is a line of text from the input file\n",
    "\n",
    "# using 'with' automatically closes the file"
   ]
  },
  {
   "cell_type": "markdown",
   "metadata": {},
   "source": [
    "# A word about encoding"
   ]
  },
  {
   "cell_type": "code",
   "execution_count": null,
   "metadata": {
    "collapsed": true
   },
   "outputs": [],
   "source": [
    "# all strings are Python 3 are unicode strings\n",
    "# Utf-8 is the default encoding Python uses\n",
    "\n",
    "# if you cannot use utf-8, you will need to guess the encoding and decode based\n",
    "#    on educated guesses\n",
    "\n",
    "# English-language versions of Windows use the cp1252 encoding"
   ]
  }
 ],
 "metadata": {
  "kernelspec": {
   "display_name": "Python 3",
   "language": "python",
   "name": "python3"
  },
  "language_info": {
   "codemirror_mode": {
    "name": "ipython",
    "version": 3
   },
   "file_extension": ".py",
   "mimetype": "text/x-python",
   "name": "python",
   "nbconvert_exporter": "python",
   "pygments_lexer": "ipython3",
   "version": "3.6.0"
  }
 },
 "nbformat": 4,
 "nbformat_minor": 2
}
